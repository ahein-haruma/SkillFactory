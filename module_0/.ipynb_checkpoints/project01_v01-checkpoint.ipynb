{
 "cells": [
  {
   "cell_type": "code",
   "execution_count": 14,
   "metadata": {},
   "outputs": [],
   "source": [
    "import numpy as np\n",
    "def score_game(game_core):\n",
    "    '''Запускаем игру 1000 раз, чтобы узнать, как быстро игра угадывает число'''\n",
    "    count_ls = []\n",
    "    np.random.seed(1)  # фиксируем RANDOM SEED, чтобы ваш эксперимент был воспроизводим!\n",
    "    random_array = np.random.randint(1,101, size=(1000))\n",
    "    for number in random_array:\n",
    "        count_ls.append(game_core(number))\n",
    "    score = int(np.mean(count_ls))\n",
    "    print(f\"Ваш алгоритм угадывает число в среднем за {score} попыток\")\n",
    "    return(score)"
   ]
  },
  {
   "cell_type": "code",
   "execution_count": 11,
   "metadata": {},
   "outputs": [],
   "source": [
    "import numpy as np\n",
    "def game_core_v3(number):\n",
    " \n",
    "    number = np.random.randint(1,101)   # загадали число\n",
    "    low = 1\n",
    "    high = 100\n",
    "    guess = np.random.randint (low, high)\n",
    "    tries = 1\n",
    "\n",
    "    if number == guess:\n",
    "        print('С первой попытки!')\n",
    "    else:\n",
    "        while guess != number:\n",
    "            if number > guess:\n",
    "                low = guess\n",
    "                guess = np.random.randint(low, high)\n",
    "                tries += 1\n",
    "            elif number < guess:\n",
    "                high = guess\n",
    "                guess = np.random.randint(low, high)\n",
    "                tries += 1\n",
    "        print (number)\n",
    "        print ('В яблочко, с', tries, 'попытки')"
   ]
  },
  {
   "cell_type": "code",
   "execution_count": null,
   "metadata": {},
   "outputs": [
    {
     "name": "stdout",
     "output_type": "stream",
     "text": [
      "67\n",
      "60\n",
      "В яблочко, с 18 попытки\n",
      "80\n",
      "6\n",
      "В яблочко, с 7 попытки\n",
      "47\n",
      "33\n",
      "В яблочко, с 8 попытки\n",
      "16\n",
      "85\n",
      "В яблочко, с 7 попытки\n",
      "6\n",
      "18\n",
      "В яблочко, с 11 попытки\n",
      "8\n",
      "65\n",
      "В яблочко, с 4 попытки\n",
      "44\n"
     ]
    }
   ],
   "source": [
    "score_game(game_core_v3)"
   ]
  },
  {
   "cell_type": "code",
   "execution_count": null,
   "metadata": {},
   "outputs": [],
   "source": []
  }
 ],
 "metadata": {
  "kernelspec": {
   "display_name": "Python 3",
   "language": "python",
   "name": "python3"
  },
  "language_info": {
   "codemirror_mode": {
    "name": "ipython",
    "version": 3
   },
   "file_extension": ".py",
   "mimetype": "text/x-python",
   "name": "python",
   "nbconvert_exporter": "python",
   "pygments_lexer": "ipython3",
   "version": "3.7.3"
  }
 },
 "nbformat": 4,
 "nbformat_minor": 2
}
