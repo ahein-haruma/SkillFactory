{
 "cells": [
  {
   "cell_type": "code",
   "execution_count": 8,
   "metadata": {},
   "outputs": [
    {
     "name": "stdout",
     "output_type": "stream",
     "text": [
      "Загадано число от 1 до 100\n",
      "6\n",
      "Угадываемое число больше 6 \n",
      "Вы угадали число 87 за 1 попыток.\n",
      "70\n",
      "Угадываемое число больше 70 \n",
      "Вы угадали число 87 за 2 попыток.\n",
      "90\n",
      "Угадываемое число меньше 90 \n",
      "Вы угадали число 87 за 3 попыток.\n",
      "87\n"
     ]
    }
   ],
   "source": [
    "#import numpy as np\n",
    "#count = 0                           # счетчик попыток\n",
    "#number = np.random.randint(1,101)   # загадали число\n",
    "#print (\"Загадано число от 1 до 100\")\n",
    "#while True:                        # бесконечный цикл\n",
    "#    predict = int(input())         # предполагаемое число\n",
    "#    count += 1                     # плюсуем попытку\n",
    "    if number == predict: break    # выход из цикла, если угадали\n",
    "    elif number > predict: print (f\"Угадываемое число больше {predict} \")\n",
    "    elif number < predict: print (f\"Угадываемое число меньше {predict} \")\n",
    "            \n",
    "    print (f\"Вы угадали число {number} за {count} попыток.\")    "
   ]
  },
  {
   "cell_type": "code",
   "execution_count": 11,
   "metadata": {},
   "outputs": [
    {
     "name": "stdout",
     "output_type": "stream",
     "text": [
      "Загадано число от 1 до 100\n",
      "Вы угадали число 5 за 1 попыток.\n",
      "Вы угадали число 5 за 2 попыток.\n",
      "Вы угадали число 5 за 3 попыток.\n",
      "Вы угадали число 5 за 4 попыток.\n"
     ]
    }
   ],
   "source": [
    "number = np.random.randint(1,101)      # загадали число\n",
    "print (\"Загадано число от 1 до 100\")\n",
    "for count in range(1,101):         # более компактный вариант счетчика\n",
    "    if number == count: break      # выход из цикла, если угадали      \n",
    "    print (f\"Вы угадали число {number} за {count} попыток.\")  "
   ]
  },
  {
   "cell_type": "code",
   "execution_count": 13,
   "metadata": {},
   "outputs": [],
   "source": [
    "def game_core_v1(number):\n",
    "    '''Просто угадываем на random, никак не используя информацию о больше или меньше.\n",
    "       Функция принимает загаданное число и возвращает число попыток'''\n",
    "    count = 0\n",
    "    while True:\n",
    "        count+=1\n",
    "        predict = np.random.randint(1,101) # предполагаемое число\n",
    "        if number == predict: \n",
    "            return count # выход из цикла, если угадали\n",
    "        \n",
    "        \n",
    "def score_game(game_core):\n",
    "    '''Запускаем игру 1000 раз, чтобы узнать, как быстро игра угадывает число'''\n",
    "    count_ls = []\n",
    "    np.random.seed(1)  # фиксируем RANDOM SEED, чтобы ваш эксперимент был воспроизводим!\n",
    "    random_array = np.random.randint(1,101, size=(1000))\n",
    "    for number in random_array:\n",
    "        count_ls.append(game_core(number))\n",
    "    score = int(np.mean(count_ls))\n",
    "    print(f\"Ваш алгоритм угадывает число в среднем за {score} попыток\")\n",
    "    return(score)\n"
   ]
  },
  {
   "cell_type": "code",
   "execution_count": 16,
   "metadata": {},
   "outputs": [
    {
     "name": "stdout",
     "output_type": "stream",
     "text": [
      "Ваш алгоритм угадывает число в среднем за 101 попыток\n"
     ]
    },
    {
     "data": {
      "text/plain": [
       "101"
      ]
     },
     "execution_count": 16,
     "metadata": {},
     "output_type": "execute_result"
    }
   ],
   "source": [
    "# запускаем\n",
    "score_game(game_core_v1)"
   ]
  },
  {
   "cell_type": "code",
   "execution_count": 24,
   "metadata": {},
   "outputs": [
    {
     "ename": "SyntaxError",
     "evalue": "'return' outside function (<ipython-input-24-fb53bef4087f>, line 12)",
     "output_type": "error",
     "traceback": [
      "\u001b[1;36m  File \u001b[1;32m\"<ipython-input-24-fb53bef4087f>\"\u001b[1;36m, line \u001b[1;32m12\u001b[0m\n\u001b[1;33m    return(count) # выход из цикла, если угадали\u001b[0m\n\u001b[1;37m    ^\u001b[0m\n\u001b[1;31mSyntaxError\u001b[0m\u001b[1;31m:\u001b[0m 'return' outside function\n"
     ]
    }
   ],
   "source": [
    "def game_core_v2(number):\n",
    "    '''Сначала устанавливаем любое random число, а потом уменьшаем или увеличиваем его в зависимости от того, больше оно или меньше нужного.\n",
    "       Функция принимает загаданное число и возвращает число попыток'''\n",
    "count = 1\n",
    "predict = np.random.randint(1,101)\n",
    "while number != predict:\n",
    "    count+=1\n",
    "    if number > predict: \n",
    "        predict += 1\n",
    "    elif number < predict: \n",
    "        predict -= 1\n",
    "    return(count) # выход из цикла, если угадали"
   ]
  },
  {
   "cell_type": "code",
   "execution_count": 1,
   "metadata": {},
   "outputs": [
    {
     "ename": "SyntaxError",
     "evalue": "invalid syntax (<ipython-input-1-819dd42a8a5b>, line 4)",
     "output_type": "error",
     "traceback": [
      "\u001b[1;36m  File \u001b[1;32m\"<ipython-input-1-819dd42a8a5b>\"\u001b[1;36m, line \u001b[1;32m4\u001b[0m\n\u001b[1;33m    int main()\u001b[0m\n\u001b[1;37m           ^\u001b[0m\n\u001b[1;31mSyntaxError\u001b[0m\u001b[1;31m:\u001b[0m invalid syntax\n"
     ]
    }
   ],
   "source": [
    "#define _CRT_SECURE_NO_WARNINGS // для корректной работы scanf()\n",
    "#include <stdio.h>\n",
    "#include <stdlib.h> // для использования функций system()\n",
    "int main()\n",
    "{\n",
    "  int k[20]; // массив ключей основной таблицы\n",
    "  int r[20]; // массив записей основной таблицы\n",
    "  int key, i;\n",
    "  system(\"chcp 1251\"); // перевод русского языка в консоли\n",
    "  system(\"cls\");     // очистка окна консоли\n",
    "  // Инициализация ключевых полей упорядоченными значениями\n",
    "  k[0] = 8;  k[1] = 14;\n",
    "  k[2] = 26;  k[3] = 28;\n",
    "  k[4] = 38;  k[5] = 47;\n",
    "  k[6] = 56;  k[7] = 60;\n",
    "  k[8] = 64;  k[9] = 69;\n",
    "  k[10] = 70; k[11] = 78;\n",
    "  k[12] = 80; k[13] = 82;\n",
    "  k[14] = 84; k[15] = 87;\n",
    "  k[16] = 90; k[17] = 92;\n",
    "  k[18] = 98; k[19] = 108;\n",
    "  // Ввод записей\n",
    "  for (i = 0; i < 20; i++) \n",
    "  {\n",
    "    printf(\"%2d. k[%2d]=%3d: r[%2d]= \", i, i, k[i], i);\n",
    "    scanf(\"%d\", &r[i]);\n",
    "  }\n",
    "  printf(\"Введите key: \"); // вводим искомое ключевое поле\n",
    "  scanf(\"%d\", &key);\n",
    "  int left = 0; // задаем левую и правую границы поиска\n",
    "  int right = 19;\n",
    "  int search = -1; // найденный индекс элемента равен -1 (элемент не найден)\n",
    "  while (left <= right) // пока левая граница не \"перескочит\" правую\n",
    "  {\n",
    "    int mid = (left + right) / 2; // ищем середину отрезка\n",
    "    if (key == k[mid]) {  // если ключевое поле равно искомому\n",
    "      search = mid;     // мы нашли требуемый элемент,\n",
    "      break;            // выходим из цикла\n",
    "    }\n",
    "    if (key < k[mid])     // если искомое ключевое поле меньше найденной середины\n",
    "      right = mid - 1;  // смещаем правую границу, продолжим поиск в левой части\n",
    "    else                  // иначе\n",
    "      left = mid + 1;   // смещаем левую границу, продолжим поиск в правой части\n",
    "  }\n",
    "  if (search == -1)     // если индекс элемента по-прежнему -1, элемент не найден\n",
    "    printf(\"Элемент не найден!\\n\");\n",
    "  else          // иначе выводим элемент, его ключ и значение\n",
    "    printf(\"%d. key= %d. r[%d]=%d\", search, k[search], search, r[search]);\n",
    "  getchar(); getchar();\n",
    "  return 0;\n",
    "}"
   ]
  }
 ],
 "metadata": {
  "kernelspec": {
   "display_name": "Python 3",
   "language": "python",
   "name": "python3"
  },
  "language_info": {
   "codemirror_mode": {
    "name": "ipython",
    "version": 3
   },
   "file_extension": ".py",
   "mimetype": "text/x-python",
   "name": "python",
   "nbconvert_exporter": "python",
   "pygments_lexer": "ipython3",
   "version": "3.7.3"
  }
 },
 "nbformat": 4,
 "nbformat_minor": 2
}
